{
 "cells": [
  {
   "cell_type": "code",
   "execution_count": null,
   "metadata": {},
   "outputs": [],
   "source": [
    " Write a program that asks the user to enter a number and checks whether the number is even or odd."
   ]
  },
  {
   "cell_type": "code",
   "execution_count": null,
   "metadata": {},
   "outputs": [],
   "source": [
    "num = int(input(\"Enter a number: \"))\n",
    "if num % 2 == 0:\n",
    "    print(\"The number is even.\")\n",
    "else:\n",
    "    print(\"The number is odd.\")"
   ]
  },
  {
   "cell_type": "markdown",
   "metadata": {},
   "source": [
    " Write a program that asks the user to enter a number and checks whether it is positive, negative, or zero. \n"
   ]
  },
  {
   "cell_type": "code",
   "execution_count": null,
   "metadata": {},
   "outputs": [],
   "source": [
    "num = float(input(\"Enter a number: \"))\n",
    "if num > 0:\n",
    "    print(\"The number is positive.\")\n",
    "elif num < 0:\n",
    "    print(\"The number is negative.\")\n",
    "else:\n",
    "    print(\"The number is zero.\")"
   ]
  },
  {
   "cell_type": "markdown",
   "metadata": {},
   "source": [
    "Write a program that asks the user to enter their age and checks if they are eligible to vote (18 years or older)."
   ]
  },
  {
   "cell_type": "code",
   "execution_count": null,
   "metadata": {},
   "outputs": [],
   "source": [
    "age = int(input(\"Enter your age: \"))\n",
    "if age >= 18:\n",
    "    print(\"You are eligible to vote.\")\n",
    "else:\n",
    "    print(\"You are not eligible to vote.\")"
   ]
  },
  {
   "cell_type": "markdown",
   "metadata": {},
   "source": [
    " Write a program that takes the lengths of three sides of a triangle as input and determines if the triangle is: \n",
    "○ Equilateral (all sides are equal) \n",
    "○ Isosceles (two sides are equal) \n",
    "○ Scalene (all sides are different)"
   ]
  },
  {
   "cell_type": "code",
   "execution_count": null,
   "metadata": {},
   "outputs": [],
   "source": [
    "side1 = float(input(\"Enter the length of side 1: \"))\n",
    "side2 = float(input(\"Enter the length of side 2: \"))\n",
    "side3 = float(input(\"Enter the length of side 3: \"))\n",
    "\n",
    "if side1 == side2 == side3:\n",
    "    print(\"The triangle is Equilateral.\")\n",
    "elif side1 == side2 or side2 == side3 or side1 == side3:\n",
    "    print(\"The triangle is Isosceles.\")\n",
    "else:\n",
    "    print(\"The triangle is Scalene.\")\n"
   ]
  },
  {
   "cell_type": "markdown",
   "metadata": {},
   "source": [
    " Write a program that asks the user to enter a password and checks if it matches a predefined password "
   ]
  },
  {
   "cell_type": "code",
   "execution_count": null,
   "metadata": {},
   "outputs": [],
   "source": [
    "oldpassword = \"Python123\"\n",
    "newpassword = input(\"Enter your password: \")\n",
    "if newpassword == oldpassword:\n",
    "    print(\"Password is correct.\")\n",
    "else:\n",
    "    print(\"Incorrect password.\")"
   ]
  },
  {
   "cell_type": "markdown",
   "metadata": {},
   "source": [
    "Multiplication Table: Write a Python program to print the multiplication table of a given number using a for loop. "
   ]
  },
  {
   "cell_type": "code",
   "execution_count": null,
   "metadata": {},
   "outputs": [],
   "source": [
    "num = int(input(\"Enter a number for the multiplication table: \"))\n",
    "for i in range(1, 11):\n",
    "    print(num, \"x\", i, \"=\", num * i)"
   ]
  },
  {
   "cell_type": "markdown",
   "metadata": {},
   "source": [
    "Count Vowels: Write a program to count and display the number of vowels in a given string."
   ]
  },
  {
   "cell_type": "code",
   "execution_count": null,
   "metadata": {},
   "outputs": [],
   "source": [
    "text = input(\"Enter a word or sentence: \")\n",
    "vowels = \"aeiouAEIOU\"\n",
    "count = 0\n",
    "for char in text:\n",
    "    if char in vowels:\n",
    "        count += 1\n",
    "print(\"Number of vowels:\", count)"
   ]
  },
  {
   "cell_type": "markdown",
   "metadata": {},
   "source": [
    "Sum of Even Numbers Create a program to find the sum of all even numbers in a list using a for loop. \n"
   ]
  },
  {
   "cell_type": "code",
   "execution_count": null,
   "metadata": {},
   "outputs": [],
   "source": [
    "numbers = input(\"Enter numbers separated by space: \").split()\n",
    "sum_even = 0\n",
    "for num in numbers:\n",
    "    num = int(num)\n",
    "    if num % 2 == 0:\n",
    "        sum_even += num\n",
    "print(\"Sum of even numbers:\", sum_even)"
   ]
  },
  {
   "cell_type": "markdown",
   "metadata": {},
   "source": [
    "Create a program to find the largest and smallest numbers in a list using a for loop."
   ]
  },
  {
   "cell_type": "code",
   "execution_count": null,
   "metadata": {},
   "outputs": [],
   "source": [
    "numbers = input(\"Enter numbers separated by space: \").split()\n",
    "largest = int(numbers[0])\n",
    "smallest = int(numbers[0])\n",
    "for num in numbers:\n",
    "    num = int(num)\n",
    "    if num > largest:\n",
    "        largest = num\n",
    "    if num < smallest:\n",
    "        smallest = num\n",
    "print(\"Largest:\", largest)\n",
    "print(\"Smallest:\", smallest)"
   ]
  },
  {
   "cell_type": "markdown",
   "metadata": {},
   "source": [
    " Write a program to calculate the sum of digits of a given number using a for loop. \n"
   ]
  },
  {
   "cell_type": "code",
   "execution_count": null,
   "metadata": {},
   "outputs": [],
   "source": [
    "number = input(\"Enter a number: \")\n",
    "sum_digits = 0\n",
    "for digit in number:\n",
    "    sum_digits += int(digit)\n",
    "print(\"Sum of digits:\", sum_digits)"
   ]
  },
  {
   "cell_type": "markdown",
   "metadata": {},
   "source": [
    "Write a program to reverse a given string using a for loop. "
   ]
  },
  {
   "cell_type": "code",
   "execution_count": null,
   "metadata": {},
   "outputs": [],
   "source": [
    "string = input(\"Enter a word: \")\n",
    "reversed_string = \"\"\n",
    "for char in string:\n",
    "    reversed_string = char + reversed_string\n",
    "print(\"Reversed string:\", reversed_string)"
   ]
  },
  {
   "cell_type": "markdown",
   "metadata": {},
   "source": [
    " Factorial Function: Write a function factorial(n) that returns the factorial of a number using a for loop. \n"
   ]
  },
  {
   "cell_type": "code",
   "execution_count": null,
   "metadata": {},
   "outputs": [],
   "source": [
    "n = int(input(\"Enter a number for factorial: \"))\n",
    "result = 1\n",
    "for i in range(1, n + 1):\n",
    "    result *= i\n",
    "print(\"Factorial:\", result)"
   ]
  },
  {
   "cell_type": "markdown",
   "metadata": {},
   "source": [
    "Prime Check Function: Create a function is_prime(n) to check whether a number is prime."
   ]
  },
  {
   "cell_type": "code",
   "execution_count": null,
   "metadata": {},
   "outputs": [],
   "source": [
    "n = int(input(\"Enter a number to check if it's prime: \"))\n",
    "is_prime = True\n",
    "if n <= 1:\n",
    "    is_prime = False\n",
    "else:\n",
    "    for i in range(2, int(n**0.5) + 1):\n",
    "        if n % i == 0:\n",
    "            is_prime = False\n",
    "            break\n",
    "if is_prime:\n",
    "    print(n, \"is a prime number.\")\n",
    "else:\n",
    "    print(n, \"is not a prime number.\")"
   ]
  },
  {
   "cell_type": "markdown",
   "metadata": {},
   "source": [
    " Find Maximum in List:Write a function find_max(lst) to find and return the maximum value in a list. \n"
   ]
  },
  {
   "cell_type": "code",
   "execution_count": null,
   "metadata": {},
   "outputs": [],
   "source": [
    "lst = [int(x) for x in input(\"Enter a list of numbers separated by spaces: \").split()]\n",
    "max_value = lst[0]\n",
    "for num in lst:\n",
    "    if num > max_value:\n",
    "        max_value = num\n",
    "print(\"Maximum value:\", max_value)"
   ]
  },
  {
   "cell_type": "markdown",
   "metadata": {},
   "source": [
    "Write a function palindrome_check(string) that returns True if the given string is a palindrome, otherwise False. "
   ]
  },
  {
   "cell_type": "code",
   "execution_count": null,
   "metadata": {},
   "outputs": [],
   "source": [
    "string = input(\"Enter a word to check palindrome: \")\n",
    "reversed_string = string[::-1]\n",
    "if string == reversed_string:\n",
    "    print(string, \"is a palindrome.\")\n",
    "else:\n",
    "    print(string, \"is not a palindrome.\")"
   ]
  },
  {
   "cell_type": "markdown",
   "metadata": {},
   "source": [
    " Write a function sum_of_squares(n) that returns the sum of squares of the first n natural numbers."
   ]
  },
  {
   "cell_type": "code",
   "execution_count": null,
   "metadata": {},
   "outputs": [],
   "source": [
    "n = int(input(\"Enter a number for sum of squares: \"))\n",
    "sum_squares = 0\n",
    "for i in range(1, n + 1):\n",
    "    sum_squares += i ** 2\n",
    "print(\"Sum of squares:\", sum_squares)"
   ]
  },
  {
   "cell_type": "markdown",
   "metadata": {},
   "source": [
    " Rectangle Class:Define a class Rectangle with: \n",
    "○ Two attributes: length and width. \n",
    "○ A method area() to calculate the area. \n",
    "○ A method perimeter() to calculate the perimeter."
   ]
  },
  {
   "cell_type": "code",
   "execution_count": 13,
   "metadata": {},
   "outputs": [],
   "source": [
    "class Rectangle:\n",
    "    def __init__(self, length, width):\n",
    "        self.length = length\n",
    "        self.width = width\n",
    "\n",
    "    def area(self):\n",
    "        return self.length * self.width\n",
    "\n",
    "    def perimeter(self):\n",
    "        return 2 * (self.length + self.width)"
   ]
  },
  {
   "cell_type": "markdown",
   "metadata": {},
   "source": [
    "Student Class: Create a class Student with: \n",
    "○ Attributes: name, roll_number, and marks. \n",
    "○ A method display_details() to print the student's details. ○ A method is_passed() that returns True if marks ≥ 40, else False. \n"
   ]
  },
  {
   "cell_type": "code",
   "execution_count": 14,
   "metadata": {},
   "outputs": [],
   "source": [
    "class Student:\n",
    "    def __init__(self, name, roll_number, marks):\n",
    "        self.name = name\n",
    "        self.roll_number = roll_number\n",
    "        self.marks = marks\n",
    "\n",
    "    def display_details(self):\n",
    "        print(f\"Name: {self.name}, Roll Number: {self.roll_number}, Marks: {self.marks}\")\n",
    "\n",
    "    def is_passed(self):\n",
    "        return self.marks >= 40"
   ]
  },
  {
   "cell_type": "markdown",
   "metadata": {},
   "source": [
    "Define a class Circle with: \n",
    "● Attribute: radius. \n",
    "● Methods: area() to calculate the area, circumference() to calculate the circumference."
   ]
  },
  {
   "cell_type": "code",
   "execution_count": 15,
   "metadata": {},
   "outputs": [],
   "source": [
    "class Circle:\n",
    "    def __init__(self, radius):\n",
    "        self.radius = radius\n",
    "\n",
    "    def area(self):\n",
    "        return 3.14 * self.radius ** 2\n",
    "\n",
    "    def circumference(self):\n",
    "        return 2 * 3.14 * self.radius"
   ]
  },
  {
   "cell_type": "markdown",
   "metadata": {},
   "source": [
    "Create a class BankAccount with: \n",
    "● Attributes: account_number, account_holder, balance. ● Methods: \n",
    "○ deposit(amount) to add money to the account.\n",
    "○ withdraw(amount) to subtract money (if sufficient \n",
    "balance is available). \n",
    "○ display_balance() to print the current balance. \n"
   ]
  },
  {
   "cell_type": "code",
   "execution_count": null,
   "metadata": {},
   "outputs": [],
   "source": [
    "class BankAccount:\n",
    "    def __init__(self, account_number, account_holder, balance=0):\n",
    "        self.account_number = account_number\n",
    "        self.account_holder = account_holder\n",
    "        self.balance = balance\n",
    "\n",
    "    def deposit(self, amount):\n",
    "        self.balance += amount\n",
    "\n",
    "    def withdraw(self, amount):\n",
    "        if amount <= self.balance:\n",
    "            self.balance -= amount\n",
    "        else:\n",
    "            print(\"Insufficient balance\")\n",
    "\n",
    "    def display_balance(self):\n",
    "        print(f\"Current Balance: ${self.balance}\")"
   ]
  },
  {
   "cell_type": "markdown",
   "metadata": {},
   "source": [
    " A class Book with: \n",
    "● Attributes: title, author, price. \n",
    "● Methods: \n",
    "○ apply_discount(discount) to reduce the price by a \n",
    "given percentage. \n",
    "○ display_details() to print the book details. \n"
   ]
  },
  {
   "cell_type": "code",
   "execution_count": null,
   "metadata": {},
   "outputs": [],
   "source": [
    "class Book:\n",
    "    def __init__(self, title, author, price):\n",
    "        self.title = title\n",
    "        self.author = author\n",
    "        self.price = price\n",
    "\n",
    "    def apply_discount(self, discount):\n",
    "        self.price -= self.price * (discount / 100)\n",
    "\n",
    "    def display_details(self):\n",
    "        print(f\"Title: {self.title}, Author: {self.author}, Price: ${self.price:.2f}\")"
   ]
  },
  {
   "cell_type": "markdown",
   "metadata": {},
   "source": [
    "Create a class Calculator with: \n",
    "○ A method add(a, b) to add two numbers. \n",
    "○ A method subtract(a, b) to subtract two numbers. \n",
    "○ A method multiply(a, b) to multiply two numbers. \n",
    "○ A method divide(a, b) to divide two numbers (handle division by zero gracefully). \n"
   ]
  },
  {
   "cell_type": "code",
   "execution_count": null,
   "metadata": {},
   "outputs": [],
   "source": [
    "class Calculator:\n",
    "    def add(self, a, b):\n",
    "        return a + b\n",
    "\n",
    "    def subtract(self, a, b):\n",
    "        return a - b\n",
    "\n",
    "    def multiply(self, a, b):\n",
    "        return a * b\n",
    "\n",
    "    def divide(self, a, b):\n",
    "        if b != 0:\n",
    "            return a / b\n",
    "        else:\n",
    "            return \"Error: Division by zero\""
   ]
  },
  {
   "cell_type": "markdown",
   "metadata": {},
   "source": [
    " Write a class Person with: \n",
    "○ Attributes: name, age, gender. \n",
    "○ Method introduce() to print a message like: \"Hello, my name is [name], I am [age] years old, and I am a [gender].\" ○ Create a subclass Employee that adds: \n",
    "■ Attribute: job_title. \n",
    "■ Override introduce() to include the job title.\n"
   ]
  },
  {
   "cell_type": "code",
   "execution_count": null,
   "metadata": {},
   "outputs": [],
   "source": [
    "class Person:\n",
    "    def __init__(self, name, age, gender):\n",
    "        self.name = name\n",
    "        self.age = age\n",
    "        self.gender = gender\n",
    "\n",
    "    def introduce(self):\n",
    "        print(f\"Hello, my name is {self.name}, I am {self.age} years old, and I am a {self.gender}.\")\n",
    "\n",
    "class Employee(Person):\n",
    "    def __init__(self, name, age, gender, job_title):\n",
    "        super().__init__(name, age, gender)\n",
    "        self.job_title = job_title\n",
    "\n",
    "    def introduce(self):\n",
    "        print(f\"Hello, my name is {self.name}, I am {self.age} years old, I am a {self.gender}, and I work as a {self.job_title}.\")"
   ]
  },
  {
   "cell_type": "markdown",
   "metadata": {},
   "source": [
    " File Creation and Writing: Write a Python script to: \n",
    "○ Create a file named data.txt. \n",
    "○ Write the numbers from 1 to 10 (each on a new line) to the file. \n",
    "○ Read the file and print its contents"
   ]
  },
  {
   "cell_type": "code",
   "execution_count": null,
   "metadata": {},
   "outputs": [],
   "source": [
    "file = open(\"data.txt\", \"w\")  # Open file in write mode\n",
    "for number in range(1, 11):\n",
    "    file.write(str(number) + \"\\n\")  # Write each number on a new line\n",
    "file.close()"
   ]
  },
  {
   "cell_type": "code",
   "execution_count": null,
   "metadata": {},
   "outputs": [],
   "source": [
    "file = open(\"data.txt\", \"r\")  # Open file in read mode\n",
    "print(\"Contents of data.txt:\")\n",
    "print(file.read())  # Print file contents\n",
    "file.close() "
   ]
  },
  {
   "cell_type": "markdown",
   "metadata": {},
   "source": [
    "Word Count in File: Write a program that reads a file named sample.txt, counts the number of words in it, and prints the result."
   ]
  },
  {
   "cell_type": "code",
   "execution_count": null,
   "metadata": {},
   "outputs": [],
   "source": [
    "file = open(\"sample.txt\", \"w\")  # Open file in write mode\n",
    "file.write(\"Python is fun and easy to learn!\")  # Write a sentence\n",
    "file.close()"
   ]
  },
  {
   "cell_type": "code",
   "execution_count": null,
   "metadata": {},
   "outputs": [],
   "source": [
    "file = open(\"sample.txt\", \"r\")  # Open file in read mode\n",
    "contents = file.read()  # Read the file contents\n",
    "words = contents.split()  # Split into words\n",
    "word_count = len(words)  # Count the words\n",
    "print(\"Number of words:\", word_count)  # Print word count\n",
    "file.close() "
   ]
  },
  {
   "cell_type": "markdown",
   "metadata": {},
   "source": [
    "Division with Error Handling: Write a program that takes two numbers as input and divides the first number by the second. \n"
   ]
  },
  {
   "cell_type": "code",
   "execution_count": null,
   "metadata": {},
   "outputs": [],
   "source": [
    "try:\n",
    "    num1 = float(input(\"Enter the first number: \"))\n",
    "    num2 = float(input(\"Enter the second number: \"))\n",
    "    result = num1 / num2\n",
    "    print(\"Result:\", result)\n",
    "except ZeroDivisionError:\n",
    "    print(\"Error: Division by zero is not allowed.\")"
   ]
  },
  {
   "cell_type": "markdown",
   "metadata": {},
   "source": [
    "Integer Input Validation: Create a program that asks the user to input an integer. \n",
    "○ Use try, except, and else to handle invalid input. "
   ]
  },
  {
   "cell_type": "code",
   "execution_count": null,
   "metadata": {},
   "outputs": [],
   "source": [
    "# Integer input validation\n",
    "try:\n",
    "    num = int(input(\"Enter an integer: \"))\n",
    "    print(\"You entered:\", num)\n",
    "except ValueError:\n",
    "    print(\"Invalid input, please enter an integer.\")\n"
   ]
  },
  {
   "cell_type": "markdown",
   "metadata": {},
   "source": [
    " File Not Found Error Handling: Write a script that:\n",
    "○ Opens a file named unknown.txt. \n",
    "○ Handles the FileNotFoundError gracefully and prints an appropriate message.\n"
   ]
  },
  {
   "cell_type": "code",
   "execution_count": null,
   "metadata": {},
   "outputs": [],
   "source": [
    "# File Not Found Error Handling\n",
    "try:\n",
    "    file = open(\"unknown.txt\", \"r\")  # Trying to open a file that doesn't exist\n",
    "    print(file.read())\n",
    "    file.close()\n",
    "except FileNotFoundError:\n",
    "    print(\"Error: The file 'unknown.txt' was not found.\")\n"
   ]
  },
  {
   "cell_type": "markdown",
   "metadata": {},
   "source": [
    "Create a Python class called Employee with attributes name, position, and salary, and a method display() that prints all the details."
   ]
  },
  {
   "cell_type": "code",
   "execution_count": null,
   "metadata": {},
   "outputs": [],
   "source": [
    "class Employee:\n",
    "    def __init__(self, name, position, salary):\n",
    "        self.name = name\n",
    "        self.position = position\n",
    "        self.salary = salary\n",
    "\n",
    "    def display(self):\n",
    "        print(f\"Name: {self.name}\")\n",
    "        print(f\"Position: {self.position}\")\n",
    "        print(f\"Salary: ${self.salary}\")\n",
    "\n"
   ]
  },
  {
   "cell_type": "markdown",
   "metadata": {},
   "source": [
    "Create a Python class called Student with attributes name, grades (list), and a method average_grade() that calculates and returns the average of the student’s grades."
   ]
  },
  {
   "cell_type": "code",
   "execution_count": null,
   "metadata": {},
   "outputs": [],
   "source": [
    "class Student:\n",
    "    def __init__(self, name, grades):\n",
    "        self.name = name\n",
    "        self.grades = grades\n",
    "\n",
    "    def average_grade(self):\n",
    "        if len(self.grades) == 0:\n",
    "            return 0\n",
    "        return sum(self.grades) / len(self.grades)\n",
    "\n",
    "\n"
   ]
  }
 ],
 "metadata": {
  "kernelspec": {
   "display_name": "Python 3",
   "language": "python",
   "name": "python3"
  },
  "language_info": {
   "codemirror_mode": {
    "name": "ipython",
    "version": 3
   },
   "file_extension": ".py",
   "mimetype": "text/x-python",
   "name": "python",
   "nbconvert_exporter": "python",
   "pygments_lexer": "ipython3",
   "version": "3.13.0"
  }
 },
 "nbformat": 4,
 "nbformat_minor": 2
}
